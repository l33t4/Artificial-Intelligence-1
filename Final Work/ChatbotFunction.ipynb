{
  "nbformat": 4,
  "nbformat_minor": 0,
  "metadata": {
    "colab": {
      "name": "ChatbotFunction (7).ipynb",
      "provenance": [],
      "collapsed_sections": []
    },
    "kernelspec": {
      "name": "python3",
      "display_name": "Python 3"
    }
  },
  "cells": [
    {
      "cell_type": "code",
      "metadata": {
        "id": "QwXwRojspmpR",
        "colab": {
          "base_uri": "https://localhost:8080/"
        },
        "outputId": "3aff638d-9d80-4bf0-bc50-d55463ee1aae"
      },
      "source": [
        "pip install rank_bm25\n"
      ],
      "execution_count": null,
      "outputs": [
        {
          "output_type": "stream",
          "text": [
            "Collecting rank_bm25\n",
            "  Downloading https://files.pythonhosted.org/packages/16/5a/23ed3132063a0684ea66fb410260c71c4ffda3b99f8f1c021d1e245401b5/rank_bm25-0.2.1-py3-none-any.whl\n",
            "Requirement already satisfied: numpy in /usr/local/lib/python3.6/dist-packages (from rank_bm25) (1.18.5)\n",
            "Installing collected packages: rank-bm25\n",
            "Successfully installed rank-bm25-0.2.1\n"
          ],
          "name": "stdout"
        }
      ]
    },
    {
      "cell_type": "code",
      "metadata": {
        "id": "ok4ye7O2heEO"
      },
      "source": [
        "\n",
        "from pandas import DataFrame\n",
        "import ast\n",
        "import io\n",
        "import csv  \n",
        "from datetime import datetime\n",
        "from random import randrange\n",
        "from rank_bm25 import BM25Okapi"
      ],
      "execution_count": null,
      "outputs": []
    },
    {
      "cell_type": "code",
      "metadata": {
        "id": "9fq6UgHwhsyA"
      },
      "source": [
        "def mountCorpus():\n",
        "  from google.colab import drive\n",
        "  drive.mount('/content/gdrive', force_remount=True)#mount gdrive\n",
        "  !ls gdrive/My\\ Drive/MachineLearning\n",
        "\n",
        "  f=open('/content/gdrive/My Drive/MachineLearning/qcorpus.txt','r',errors = 'ignore')#this opens a text file from google drive which is used for the corpus of questions\n",
        "  g=open('/content/gdrive/My Drive/MachineLearning/acorpus.txt','r',errors = 'ignore')#this opens a text file from google drive which is used for the corpus of answers\n",
        "  y = ast.literal_eval(f.read())#convert text file to python list/array\n",
        "  z = ast.literal_eval(g.read())\n",
        "  global qcorpus, acorpus\n",
        "  qcorpus = y#question corpus\n",
        "  acorpus = z#answer corpus"
      ],
      "execution_count": null,
      "outputs": []
    },
    {
      "cell_type": "code",
      "metadata": {
        "id": "5can8DYeiISL"
      },
      "source": [
        "def tokenizeQCorpus():\n",
        "  tokenized_corpus = [doc.split(\" \") for doc in qcorpus]#tokenize the question corpus\n",
        "  global bm25\n",
        "  bm25 = BM25Okapi(tokenized_corpus)#this is the question corpus it will pattern match"
      ],
      "execution_count": null,
      "outputs": []
    },
    {
      "cell_type": "code",
      "metadata": {
        "id": "C49sJgSpiTik"
      },
      "source": [
        "def readCSV():\n",
        "  data = csv.reader(open('/content/gdrive/My Drive/MachineLearning/Book1.csv', 'r', encoding='utf-8-sig'))#read csv from gdrive\n",
        "  return data"
      ],
      "execution_count": null,
      "outputs": []
    },
    {
      "cell_type": "code",
      "metadata": {
        "id": "hGr7Q7qvihmw"
      },
      "source": [
        "def getUniqueIDs():\n",
        "  UID = [row[4] for row in data]#all 5th row copy to list\n",
        "  return UID "
      ],
      "execution_count": null,
      "outputs": []
    },
    {
      "cell_type": "code",
      "metadata": {
        "id": "kEpDBGTsbAmn"
      },
      "source": [
        "def is_unique(l):\n",
        "    return False not in [True if l.count(i)==1 else False for i in l]#this checks the list to see that only unique ID's are used"
      ],
      "execution_count": null,
      "outputs": []
    },
    {
      "cell_type": "code",
      "metadata": {
        "id": "d8WgEJNtbEDK"
      },
      "source": [
        "def add_unique_id(uniqueFlag):#this adds a random id. if it has a double value it keeps going until it adds a unique random integer\n",
        "    global newUID\n",
        "    while(uniqueFlag == False):\n",
        "          UID.append(str(randrange(100000)))\n",
        "          if(is_unique(UID) != 1):#it has a double so delete what it added and try again\n",
        "            del UID[-1]\n",
        "            uniqueFlag = False\n",
        "          else:#it is a unique number so add to list and leave loop\n",
        "            newUID = UID[-1]\n",
        "            uniqueFlag = True"
      ],
      "execution_count": null,
      "outputs": []
    },
    {
      "cell_type": "code",
      "metadata": {
        "id": "UWnrBsWEcNYq"
      },
      "source": [
        "def chatBot():#chatbot that asks for user query\n",
        "  flag=True\n",
        "  print(\"Chatbot: Hello, I will answer your queries about the software. If you want to exit, type Bye!\")\n",
        "  while(flag==True):\n",
        "      print(\"Chatbot: What is it i can help you with?\")\n",
        "      user_response = input()\n",
        "      user_response=user_response.lower()\n",
        "      if(user_response!='bye'):\n",
        "\n",
        "          if(user_response=='thanks' or user_response=='thank you' ):\n",
        "              flag=True\n",
        "              print(\"Your welcome. We hope we helped, thanks for your time. See you again soon.\")\n",
        "\n",
        "          else:\n",
        "              global query\n",
        "              query = user_response#use \"start page\" to find instructions\n",
        "              flag=True\n",
        "              TokenizeQuestion(date_time,query,qcorpus,acorpus)\n",
        "\n",
        "      else:\n",
        "          flag=False\n",
        "          print(\"We hope we helped, thanks for your time. See you again soon.\")"
      ],
      "execution_count": null,
      "outputs": []
    },
    {
      "cell_type": "code",
      "metadata": {
        "id": "oHa3q5uydsGL"
      },
      "source": [
        "def addRow(f,c,t,u,d):#add row to csv with users interaction details\n",
        "      fields=[f, c, t, u, d]\n",
        "      with open(r'/content/gdrive/My Drive/MachineLearning/Book1.csv', 'a') as f:\n",
        "        writer = csv.writer(f)\n",
        "        writer.writerow(fields)"
      ],
      "execution_count": null,
      "outputs": []
    },
    {
      "cell_type": "code",
      "metadata": {
        "id": "GRcVIkmsk6In"
      },
      "source": [
        "def stripBrackets(x):#strip the brackets of a object to make it a string\n",
        "  a = x.strip(\"[\")\n",
        "  b = a.strip(\"]\")\n",
        "  return b"
      ],
      "execution_count": null,
      "outputs": []
    },
    {
      "cell_type": "code",
      "metadata": {
        "id": "x2DTSrBZsrog"
      },
      "source": [
        "def TokenizeQuestion(a,b,d,e):\n",
        "    tokenized_query = b.split(\" \")# split the query to tokeniz it\n",
        "\n",
        "    doc_scores = bm25.get_scores(tokenized_query)#score the patterns\n",
        "\n",
        "    answer = bm25.get_top_n(tokenized_query, d, n=1)#the answer from the algorithm\n",
        "\n",
        "    res = [d.index(i) for i in answer]#get index of question asked\n",
        "    newstring = str(res)#convert to string\n",
        "\n",
        "    i = stripBrackets(newstring)#strip brackets]\n",
        "\n",
        "    index = e[int(i)]# answer corpus checked by index and answer retrived\n",
        "    print(index)#print answer\n",
        "\n",
        "    classTF = False#true false boolean flag\n",
        "    add_unique_id(classTF)#add unique id\n",
        "\n",
        "    j = stripBrackets(str(newUID))#strip brackets off unique id\n",
        "\n",
        "    if(int(i)>10):#if not index 0 - 10 then it is an issue for the development team\n",
        "      addRow(b,str('Dev Team'),str('False'),a,j)\n",
        "\n",
        "    else:#this is indexed as a FAQ\n",
        "\n",
        "      addRow(b,str('FAQS'),str('True'),a,j)\n"
      ],
      "execution_count": null,
      "outputs": []
    },
    {
      "cell_type": "code",
      "metadata": {
        "colab": {
          "base_uri": "https://localhost:8080/"
        },
        "id": "50YSYx8HCF6o",
        "outputId": "182e93fa-2466-42cf-ff52-17bb7c767147"
      },
      "source": [
        "now = datetime.now()#date and time now\n",
        "date_time = now.strftime(\"%d/%m/%Y\")#, %H:%M:%S\")\n",
        "#UID  = []#used for unique user identification\n",
        "query = None# for global variable purpose. is dangerous \n",
        "newUID = None# for global variable purpose\n",
        "user_response = \"\"#user response\n",
        "\n",
        "mountCorpus()\n",
        "\n",
        "tokenizeQCorpus()\n",
        "data = readCSV()\n",
        "UID = getUniqueIDs()\n",
        "\n",
        "\n",
        "chatBot()\n"
      ],
      "execution_count": null,
      "outputs": [
        {
          "output_type": "stream",
          "text": [
            "Mounted at /content/gdrive\n",
            "acorpus.txt  Book1.csv\tchatbot.txt  dly9937.csv  qcorpus.txt\n",
            "Chatbot: Hello, I will answer your queries about the software. If you want to exit, type Bye!\n",
            "Chatbot: What is it i can help you with?\n",
            "database\n",
            "History database is accessed through options and select history\n",
            "Chatbot: What is it i can help you with?\n",
            "calender\n",
            "Tap the options and tap on time and date option\n",
            "Chatbot: What is it i can help you with?\n",
            "updates\n",
            "Updates are on the options tab in setting under notification. Select push notifications\n",
            "Chatbot: What is it i can help you with?\n",
            "hello\n",
            "Try updating the app, your error has been logged\n",
            "Chatbot: What is it i can help you with?\n",
            "bye\n",
            "We hope we helped, thanks for your time. See you again soon.\n"
          ],
          "name": "stdout"
        }
      ]
    }
  ]
}